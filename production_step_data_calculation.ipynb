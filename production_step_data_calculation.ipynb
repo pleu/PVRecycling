{
  "cells": [
    {
      "cell_type": "code",
      "source": [
        "import pandas as pd\n",
        "import os\n",
        "from google.colab import files\n",
        "\n",
        "repo_name = \"PVRecycling\"\n",
        "repo_url = \"https://github.com/pleu/PVRecycling.git\"\n",
        "branch_name = \"main\"\n",
        "\n",
        "if os.path.basename(os.getcwd()) == repo_name:\n",
        "  os.chdir(\"/content\")\n",
        "\n",
        "if os.path.exists(repo_name):\n",
        "  !rm -rf {repo_name}\n",
        "\n",
        "os.system(f\"git clone --branch {branch_name} {repo_url}\")\n",
        "os.chdir(repo_name)"
      ],
      "metadata": {
        "id": "AeoNxXr7meOV"
      },
      "id": "AeoNxXr7meOV",
      "execution_count": 36,
      "outputs": []
    },
    {
      "cell_type": "code",
      "execution_count": 37,
      "id": "4ccd6cae-4f45-425b-be80-3d7251eb94c1",
      "metadata": {
        "colab": {
          "base_uri": "https://localhost:8080/",
          "height": 249
        },
        "id": "4ccd6cae-4f45-425b-be80-3d7251eb94c1",
        "outputId": "142deafb-738a-45b1-8225-aecfd1975d00"
      },
      "outputs": [
        {
          "output_type": "stream",
          "name": "stdout",
          "text": [
            "   Year                       Production Step    Unit Distribution  \\\n",
            "0  2020                        Purchase mg-Si      kg   Log-normal   \n",
            "1  2020      SoG Poly-Si (exclude mg-Si cost)      kg   Log-normal   \n",
            "2  2020     Mono Wafer (exclude poly-Si cost)   wafer   Log-normal   \n",
            "3  2020   Mono PERC cell (exclude wafer cost)    cell   Log-normal   \n",
            "4  2020  Mono PERC module (exclude cell cost)  module   Log-normal   \n",
            "\n",
            "   Process Cost  Process Cost Min  Process Cost Max  \n",
            "0          2.50              2.00              3.00  \n",
            "1          7.20              5.80              8.60  \n",
            "2          0.24              0.19              0.29  \n",
            "3          0.22              0.17              0.26  \n",
            "4         39.00             31.00             47.00  \n"
          ]
        },
        {
          "output_type": "display_data",
          "data": {
            "text/plain": [
              "<IPython.core.display.Javascript object>"
            ],
            "application/javascript": [
              "\n",
              "    async function download(id, filename, size) {\n",
              "      if (!google.colab.kernel.accessAllowed) {\n",
              "        return;\n",
              "      }\n",
              "      const div = document.createElement('div');\n",
              "      const label = document.createElement('label');\n",
              "      label.textContent = `Downloading \"${filename}\": `;\n",
              "      div.appendChild(label);\n",
              "      const progress = document.createElement('progress');\n",
              "      progress.max = size;\n",
              "      div.appendChild(progress);\n",
              "      document.body.appendChild(div);\n",
              "\n",
              "      const buffers = [];\n",
              "      let downloaded = 0;\n",
              "\n",
              "      const channel = await google.colab.kernel.comms.open(id);\n",
              "      // Send a message to notify the kernel that we're ready.\n",
              "      channel.send({})\n",
              "\n",
              "      for await (const message of channel.messages) {\n",
              "        // Send a message to notify the kernel that we're ready.\n",
              "        channel.send({})\n",
              "        if (message.buffers) {\n",
              "          for (const buffer of message.buffers) {\n",
              "            buffers.push(buffer);\n",
              "            downloaded += buffer.byteLength;\n",
              "            progress.value = downloaded;\n",
              "          }\n",
              "        }\n",
              "      }\n",
              "      const blob = new Blob(buffers, {type: 'application/binary'});\n",
              "      const a = document.createElement('a');\n",
              "      a.href = window.URL.createObjectURL(blob);\n",
              "      a.download = filename;\n",
              "      div.appendChild(a);\n",
              "      a.click();\n",
              "      div.remove();\n",
              "    }\n",
              "  "
            ]
          },
          "metadata": {}
        },
        {
          "output_type": "display_data",
          "data": {
            "text/plain": [
              "<IPython.core.display.Javascript object>"
            ],
            "application/javascript": [
              "download(\"download_e25b341b-fc02-44fd-85ea-29038ea6967a\", \"production_step_data.csv\", 3497)"
            ]
          },
          "metadata": {}
        }
      ],
      "source": [
        "\n",
        "def calculate_production_step_data(input_file='data/manufacturing_values.csv',\n",
        "                                 output_file='data/production_step_data.csv',\n",
        "                                 years=range(2021, 2026)):\n",
        "\n",
        "    input_df = pd.read_csv(input_file)\n",
        "    output_columns = ['Year', 'Production Step', 'Unit', 'Distribution', 'Process Cost', 'Process Cost Min', 'Process Cost Max']\n",
        "\n",
        "    # Read existing data\n",
        "    existing_df = pd.read_csv(output_file)\n",
        "    existing_2020 = existing_df[existing_df['Year'] == 2020].copy()\n",
        "\n",
        "    all_years_data = []\n",
        "\n",
        "    for year in years:\n",
        "        # Create output structure for current year\n",
        "        data = {\n",
        "            'Production Step': [\n",
        "                'Purchase mg-Si',\n",
        "                'SoG Poly-Si (exclude mg-Si cost)',\n",
        "                'Mono Wafer (exclude poly-Si cost)',\n",
        "                'Mono PERC cell (exclude wafer cost)',\n",
        "                'Mono PERC module (exclude cell cost)',\n",
        "                'Recycled mg-Si',\n",
        "                'Recycled SOG poly-Si',\n",
        "                'Recycled Mono wafer'],\n",
        "            'Unit': ['kg', 'kg', 'wafer', 'cell', 'module', 'kg', 'kg', 'wafer'],\n",
        "            'Distribution': ['Log-normal'] * 5 + ['Uniform'] * 3,\n",
        "            'Year': [year] * 8}\n",
        "\n",
        "        # Create dataframe for current year\n",
        "        year_df = pd.DataFrame(data)\n",
        "\n",
        "        # Get manufacturing values for this year\n",
        "        year_values = input_df.set_index('variable')[str(year)].astype(float)\n",
        "\n",
        "        # Set process costs\n",
        "        year_df.loc[0, 'Process Cost'] = year_values['mg-SI ($/kg)']\n",
        "        year_df.loc[1, 'Process Cost'] = year_values['poly-Si ($/kg)']\n",
        "        year_df.loc[2, 'Process Cost'] = year_values['mono-wafer ($/wafer)']\n",
        "        year_df.loc[3, 'Process Cost'] = year_values['mono-cell ($/cell)']\n",
        "        year_df.loc[4, 'Process Cost'] = year_values['mono-module ($/module)']\n",
        "\n",
        "        # Set recycled material costs (50% of virgin materials)\n",
        "        year_df.loc[5, 'Process Cost'] = 0.5 * year_values['mg-SI ($/kg)']\n",
        "        year_df.loc[6, 'Process Cost'] = 0.5 * year_values['poly-Si ($/kg)']\n",
        "        year_df.loc[7, 'Process Cost'] = 0.5 * year_values['mono-wafer ($/wafer)']\n",
        "\n",
        "        # Calculate min/max values\n",
        "        for i in range(5):  # First 5 are Log-normal\n",
        "            cost = year_df.loc[i, 'Process Cost']\n",
        "            year_df.loc[i, 'Process Cost Min'] = 0.8 * cost\n",
        "            year_df.loc[i, 'Process Cost Max'] = 1.2 * cost\n",
        "\n",
        "        for i in range(5, 8):  # Last 3 are Uniform\n",
        "            cost = year_df.loc[i, 'Process Cost']\n",
        "            year_df.loc[i, 'Process Cost Min'] = 0\n",
        "            year_df.loc[i, 'Process Cost Max'] = 2 * cost\n",
        "\n",
        "        all_years_data.append(year_df)\n",
        "\n",
        "    # Combine the data\n",
        "    new_years_df = pd.concat(all_years_data, ignore_index=True)\n",
        "    combined_df = pd.concat([existing_2020, new_years_df], ignore_index=True)\n",
        "    combined_df = combined_df[output_columns]\n",
        "\n",
        "    # Save the result\n",
        "    combined_df.to_csv(output_file, index=False)\n",
        "\n",
        "    return combined_df\n",
        "\n",
        "# Run the function\n",
        "production_data_df = calculate_production_step_data()\n",
        "print(production_data_df.head())\n",
        "\n",
        "# Download the file\n",
        "files.download('data/production_step_data.csv')"
      ]
    },
    {
      "cell_type": "code",
      "execution_count": 37,
      "id": "684e7657-7f0b-43aa-87b1-dace40fad2ea",
      "metadata": {
        "id": "684e7657-7f0b-43aa-87b1-dace40fad2ea"
      },
      "outputs": [],
      "source": []
    },
    {
      "cell_type": "code",
      "execution_count": 37,
      "id": "f767aeb4-ac25-4335-bb65-891c134052f0",
      "metadata": {
        "id": "f767aeb4-ac25-4335-bb65-891c134052f0"
      },
      "outputs": [],
      "source": []
    }
  ],
  "metadata": {
    "kernelspec": {
      "display_name": "Python 3 (ipykernel)",
      "language": "python",
      "name": "python3"
    },
    "language_info": {
      "codemirror_mode": {
        "name": "ipython",
        "version": 3
      },
      "file_extension": ".py",
      "mimetype": "text/x-python",
      "name": "python",
      "nbconvert_exporter": "python",
      "pygments_lexer": "ipython3",
      "version": "3.12.2"
    },
    "colab": {
      "provenance": []
    }
  },
  "nbformat": 4,
  "nbformat_minor": 5
}